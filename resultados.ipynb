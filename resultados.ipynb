{
 "cells": [
  {
   "cell_type": "code",
   "execution_count": 1,
   "id": "534c2522-a7a2-43fc-934f-43e3360cd2e5",
   "metadata": {},
   "outputs": [],
   "source": [
    "import numpy as np\n",
    "import pandas as pd\n",
    "import geopandas as gpd\n",
    "import matplotlib.pyplot as plt\n",
    "import sklearn as sk\n",
    "import sys\n",
    "import pickle\n",
    "\n",
    "%matplotlib inline\n",
    "%load_ext autoreload\n",
    "%autoreload 2"
   ]
  },
  {
   "cell_type": "code",
   "execution_count": 2,
   "id": "6d73a206-7d76-42f3-ac90-6c4bd027882a",
   "metadata": {},
   "outputs": [],
   "source": [
    "from elegir_modelo import metodo\n",
    "import procesos\n",
    "import lq"
   ]
  },
  {
   "cell_type": "code",
   "execution_count": 13,
   "id": "39e362f7-e182-47d1-9f8f-cb7a2df58a46",
   "metadata": {},
   "outputs": [
    {
     "name": "stdout",
     "output_type": "stream",
     "text": [
      "las cordenadas CRS son: POSGAR94\n",
      "El mes desde el cuál todos los dptos tienen al menos 1 contagiado es: 2021-01\n"
     ]
    },
    {
     "name": "stderr",
     "output_type": "stream",
     "text": [
      "C:\\Users\\paban\\anaconda3\\envs\\covid\\lib\\site-packages\\ipykernel_launcher.py:9: UserWarning: Geometry is in a geographic CRS. Results from 'centroid' are likely incorrect. Use 'GeoSeries.to_crs()' to re-project geometries to a projected CRS before this operation.\n",
      "\n",
      "  if __name__ == '__main__':\n"
     ]
    }
   ],
   "source": [
    "covid = gpd.read_file('datos/covid_periodos.shp', index = True)\n",
    "covid = covid.set_index(['link','mes']).sort_index(level = 0)\n",
    "covid = covid.loc[pd.IndexSlice[:,'2020-03':],:]\n",
    "covid = covid.to_crs('POSGAR94')\n",
    "\n",
    "# Separamos los campos geometricos del dataframe\n",
    "geo = covid.loc[pd.IndexSlice[:,'2021-01'],'geometry']\n",
    "geo = geo.reset_index(level = 'mes', drop = True)\n",
    "centroides = covid.loc[pd.IndexSlice[:,'2021-01'],'geometry'].to_crs('POSGAR94').centroid\n",
    "centroides = centroides.reset_index(level = 'mes', drop = True)\n",
    "print(\"las cordenadas CRS son: \"+str(geo.crs))\n",
    "codiprov = covid.loc[pd.IndexSlice[:,'2021-01'],['codpcia','departamen','provincia']]\n",
    "\n",
    "\n",
    "columnas = ['clasificac', 'fallecido']\n",
    "\n",
    "# Variables acumuladas a partir del mes que todas tienen al menos 1 \n",
    "\n",
    "covid_acum = covid[columnas].groupby(covid.index.get_level_values(0)).cumsum()\n",
    "# buscamos el mes en que todos los dptos tienen al menos 1 contagio\n",
    "mes = 0\n",
    "valor = True\n",
    "while valor == True:\n",
    "    Mes = covid.index.get_level_values(1).unique()[mes]\n",
    "    valor = np.any(covid_acum.loc[pd.IndexSlice[:,Mes],'clasificac'] == 0)\n",
    "    mes +=1\n",
    "print(\"El mes desde el cuál todos los dptos tienen al menos 1 contagiado es: \"+str(Mes))\n",
    "covid_acum['personas'] = covid.personas\n",
    "\n",
    "covid2 = covid_acum.loc[pd.IndexSlice[:,Mes:],:]"
   ]
  },
  {
   "cell_type": "code",
   "execution_count": 32,
   "id": "3409b04e-df61-42cb-8982-35e8d102d17e",
   "metadata": {},
   "outputs": [],
   "source": [
    "from lq import *\n",
    "from sklearn.metrics import silhouette_score,  calinski_harabasz_score\n",
    "\n",
    "lqcovid = lq_peri(covid_acum[['fallecido','personas']])\n",
    "lqcovid2 = lq_peri(covid_acum[['clasificac','personas']])\n",
    "lqcovid3 = lq_peri(covid2[['fallecido','clasificac']])\n",
    "\n",
    "def df_datos(df):\n",
    "    mes = ['2020-03']\n",
    "    df = df.copy().set_index('link')\n",
    "    col = list(df.columns)\n",
    "    ind = col.index('personas')\n",
    "    return df[col[:ind]].copy()\n",
    "\n",
    "def siluetas(X, model):\n",
    "    X_ = df_datos(X)\n",
    "    return silhouette_score(X_, X[model])\n",
    "def calinski(X, model):\n",
    "    X_ = df_datos(X)\n",
    "    return sk.metrics.calinski_harabasz_score(X_, X[model])\n",
    "def inv_davies_bouldin(X,model):\n",
    "    X_ = df_datos(X)\n",
    "    return (sk.metrics.davies_bouldin_score(X_,X[model]))**-1\n",
    "def indice_lq(X, model):\n",
    "    X_ = df_datos(X)\n",
    "    grupos = X[model].values\n",
    "    ind = lqcovid.calcular_indice_debil(grupos)\n",
    "    return 1-ind"
   ]
  },
  {
   "cell_type": "code",
   "execution_count": 36,
   "id": "2bd60870-b0c7-4148-8044-7215548dadd8",
   "metadata": {},
   "outputs": [
    {
     "data": {
      "text/plain": [
       "[[0.18425467546513144, 0.08774696567418787, -0.01754359092252447],\n",
       " [0.5941176470588235, 0.5117647058823529, -0.11764705882352944]]"
      ]
     },
     "execution_count": 36,
     "metadata": {},
     "output_type": "execute_result"
    }
   ],
   "source": [
    "archivo = 'df_R/fallec.shp'\n",
    "df =gpd.read_file('df_R/fallec.shp')\n",
    "#df = df.set_index(df.link.astype(int))\n",
    "#df = df.drop('link', axis = 1)\n",
    "[[siluetas(df,'sk'),siluetas(df,'redcap'),siluetas(df,'schc')],\n",
    "[indice_lq(df,'sk'),indice_lq(df,'redcap'),indice_lq(df,'schc')]]"
   ]
  },
  {
   "cell_type": "code",
   "execution_count": 41,
   "id": "66e9d5e5-8c72-4374-a610-ebf4c13fbdf9",
   "metadata": {},
   "outputs": [],
   "source": [
    "archivos = ['fallec', 'fallec_pca', 'positiv', 'positiv_pca','fall_pos','fall_pos_pca']\n",
    "result = {}\n",
    "for a in archivos:\n",
    "    arch = 'df_R/'+a+'.shp'\n",
    "    df = gpd.read_file(arch)\n",
    "    r = [[siluetas(df,'sk'),siluetas(df,'redcap'),siluetas(df,'schc')],\n",
    "    [calinski(df,'sk'),calinski(df,'redcap'),calinski(df,'schc')],\n",
    "    [inv_davies_bouldin(df,'sk'),inv_davies_bouldin(df,'redcap'),inv_davies_bouldin(df,'schc')], \n",
    "    [indice_lq(df,'sk'),indice_lq(df,'redcap'),indice_lq(df,'schc')]]\n",
    "    r = pd.DataFrame(r, columns = ('sk','redcap','schc'), index = ['sil','cal','dav','lqg'])\n",
    "    result[a] = r\n",
    "    "
   ]
  },
  {
   "cell_type": "code",
   "execution_count": 44,
   "id": "2fdc9d76-d555-4622-b808-783c6812151a",
   "metadata": {},
   "outputs": [
    {
     "name": "stdout",
     "output_type": "stream",
     "text": [
      "fallec\n",
      "            sk     redcap      schc\n",
      "sil   0.184255   0.087747 -0.017544\n",
      "cal  89.383244  92.280739  1.332481\n",
      "dav   0.400619   0.422436  1.156588\n",
      "lqg   0.594118   0.511765 -0.117647\n",
      "fallec_pca\n",
      "             sk     redcap      schc\n",
      "sil    0.185413   0.180936 -0.093710\n",
      "cal  102.356493  98.872051  1.045721\n",
      "dav    0.397420   0.390431  0.996406\n",
      "lqg    0.564706   0.564706 -0.094118\n",
      "positiv\n",
      "             sk      redcap      schc\n",
      "sil    0.248795    0.281476 -0.144715\n",
      "cal  108.527928  123.649623  1.545357\n",
      "dav    0.725367    0.759896  0.851602\n",
      "lqg    0.535294    0.529412 -0.041176\n",
      "positiv_pca\n",
      "             sk      redcap      schc\n",
      "sil    0.204395    0.177647 -0.212282\n",
      "cal  107.584460  106.590642  0.708889\n",
      "dav    0.600864    0.533063  0.732134\n",
      "lqg    0.541176    0.641176 -0.129412\n",
      "fall_pos\n",
      "            sk      redcap      schc\n",
      "sil   0.187754    0.191917 -0.005955\n",
      "cal  88.304911  117.160714  1.558539\n",
      "dav   0.123380    0.259079  1.236087\n",
      "lqg   0.470588    0.600000  0.052941\n",
      "fall_pos_pca\n",
      "            sk     redcap      schc\n",
      "sil  -0.069318  -0.202021 -0.248585\n",
      "cal  15.936814  24.335311  0.856516\n",
      "dav   0.251050   0.140605  0.854484\n",
      "lqg   0.558824   0.611765  0.035294\n"
     ]
    }
   ],
   "source": [
    "for k in result.keys():\n",
    "    print(k),\n",
    "    print(result[k])"
   ]
  },
  {
   "cell_type": "code",
   "execution_count": null,
   "id": "2d382c01-91f2-45d3-96bb-2b0ded179ca7",
   "metadata": {},
   "outputs": [],
   "source": []
  }
 ],
 "metadata": {
  "kernelspec": {
   "display_name": "Python 3",
   "language": "python",
   "name": "python3"
  },
  "language_info": {
   "codemirror_mode": {
    "name": "ipython",
    "version": 3
   },
   "file_extension": ".py",
   "mimetype": "text/x-python",
   "name": "python",
   "nbconvert_exporter": "python",
   "pygments_lexer": "ipython3",
   "version": "3.7.11"
  }
 },
 "nbformat": 4,
 "nbformat_minor": 5
}
