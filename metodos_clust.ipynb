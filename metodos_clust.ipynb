{
 "cells": [
  {
   "cell_type": "markdown",
   "id": "1c508205-c0e1-4a6d-8ae9-1201f572ef49",
   "metadata": {},
   "source": [
    "# Clústers de fallecidos por covid en Argentina\n",
    "\n",
    "## Con variables acumuladas"
   ]
  },
  {
   "cell_type": "markdown",
   "id": "86ff5c9d-66b2-47c4-ae45-ac5c2908c547",
   "metadata": {},
   "source": [
    "El objetivo del trabajo es buscar agrupamientos entre departamentos de la Argentina que hayan tenido algún comportamiento similar en la cantidad de fallecidos por Covid19 durante los meses de pandemia. La idea también es tener en cuenta la relación espacial que existe entre los departamentos por eso se tiene en cuenta la restricción espacial basada en la cercanía para formar los clústers."
   ]
  },
  {
   "cell_type": "code",
   "execution_count": 1,
   "id": "eb582df0-3834-46e8-8f11-b1a4a5e1ad12",
   "metadata": {},
   "outputs": [],
   "source": [
    "import numpy as np\n",
    "import pandas as pd\n",
    "import geopandas as gpd\n",
    "import matplotlib.pyplot as plt\n",
    "import sklearn as sk\n",
    "import sys\n",
    "import os\n",
    "\n",
    "%matplotlib inline\n",
    "%load_ext autoreload\n",
    "%autoreload 2"
   ]
  },
  {
   "cell_type": "code",
   "execution_count": 2,
   "id": "90ca18da-1ef2-4f15-b4c6-d5a458571c15",
   "metadata": {},
   "outputs": [
    {
     "name": "stdout",
     "output_type": "stream",
     "text": [
      "las cordenadas CRS son: POSGAR94\n",
      "El mes desde el cuál todos los dptos tienen al menos 1 contagiado es: 2021-01\n"
     ]
    },
    {
     "name": "stderr",
     "output_type": "stream",
     "text": [
      "C:\\Users\\Pablo\\anaconda3\\envs\\covid\\lib\\site-packages\\ipykernel_launcher.py:13: UserWarning: Geometry is in a geographic CRS. Results from 'centroid' are likely incorrect. Use 'GeoSeries.to_crs()' to re-project geometries to a projected CRS before this operation.\n",
      "\n",
      "  del sys.path[0]\n"
     ]
    }
   ],
   "source": [
    "# Ejecutar primero el archivo de lectura_datos.py en caso de que no exista covid_periodos.shp\n",
    "dir_principal = os.getcwd()\n",
    "dir_datos = dir_principal+'\\\\datos'\n",
    "\n",
    "covid = gpd.read_file(dir_datos+'/covid_periodos.shp', index = True)\n",
    "covid = covid.set_index(['link','mes']).sort_index(level = 0)\n",
    "covid = covid.loc[pd.IndexSlice[:,'2020-03':],:]\n",
    "covid = covid.to_crs('POSGAR94')\n",
    "\n",
    "# Separamos los campos geometricos del dataframe\n",
    "geo = covid.loc[pd.IndexSlice[:,'2021-01'],'geometry']\n",
    "geo = geo.reset_index(level = 'mes', drop = True)\n",
    "centroides = covid.loc[pd.IndexSlice[:,'2021-01'],'geometry'].to_crs('POSGAR94').centroid\n",
    "centroides = centroides.reset_index(level = 'mes', drop = True)\n",
    "print(\"las cordenadas CRS son: \"+str(geo.crs))\n",
    "codiprov = covid.loc[pd.IndexSlice[:,'2021-01'],['codpcia','departamen','provincia']]\n",
    "\n",
    "\n",
    "columnas = ['clasificac', 'fallecido']\n",
    "\n",
    "# Variables acumuladas a partir del mes que todas tienen al menos 1 \n",
    "\n",
    "covid_acum = covid[columnas].groupby(covid.index.get_level_values(0)).cumsum()\n",
    "# buscamos el mes en que todos los dptos tienen al menos 1 contagio\n",
    "mes = 0\n",
    "valor = True\n",
    "while valor == True:\n",
    "    Mes = covid.index.get_level_values(1).unique()[mes]\n",
    "    valor = np.any(covid_acum.loc[pd.IndexSlice[:,Mes],'clasificac'] == 0)\n",
    "    mes +=1\n",
    "print(\"El mes desde el cuál todos los dptos tienen al menos 1 contagiado es: \"+str(Mes))\n",
    "covid_acum['personas'] = covid.personas\n",
    "\n",
    "covid2 = covid_acum.loc[pd.IndexSlice[:,Mes:],:]\n",
    "covid_ult_mes = covid_acum.loc[pd.IndexSlice[:,'2021-07'],:]\n",
    "covid_ult_mes = covid_ult_mes.reset_index(level = 'mes', drop = True)\n",
    "\n",
    "#casos cada 10 mil habitantes\n",
    "fallecidos = covid2.fallecido/(covid.loc[pd.IndexSlice[:,Mes:],:].personas/10000)\n",
    "positivos = covid2.clasificac/(covid.loc[pd.IndexSlice[:,Mes:],:].personas/10000)\n",
    "falle = covid2.fallecido/(covid2.personas/10000)\n",
    "\n",
    "# Calculamos el coeficiente de localización\n",
    "from lq import *\n",
    "lq_ = lq(covid2,'fallecido','clasificac')\n",
    "lq_fall_conf = lq_[2]\n",
    "ind_fall_conf = lq_[0]\n",
    "\n",
    "#la variable se elige para comparar con diferentes opciones\n",
    "variable = covid2[['clasificac','personas']]"
   ]
  },
  {
   "cell_type": "markdown",
   "id": "befcc482-df94-41a8-a47a-46c97e35901a",
   "metadata": {},
   "source": [
    "A partir de enero del 2021 es cuando todos los departamentos de Argentina, en total 525, tuvieron al menos un contagiado de covid - 19. La idea es trabajar con la variable acumulada de contagiados y fallecidos mes a mes. Para no trabajar con las variables en sus valores discretos se transforma esos datos en el coeficiente de localización de las personas fallecidas sobre la cantidad de contagios. \n",
    "\n",
    "$\\frac{{f_i}/{c_i}/{F}/{C}}$"
   ]
  },
  {
   "cell_type": "markdown",
   "id": "321b0312-423c-4ad7-8102-f5f9174c7cc5",
   "metadata": {},
   "source": [
    "## Creación matriz espacial"
   ]
  },
  {
   "cell_type": "code",
   "execution_count": 3,
   "id": "00de113d-df10-427f-98f7-5657d9958ac8",
   "metadata": {},
   "outputs": [
    {
     "name": "stderr",
     "output_type": "stream",
     "text": [
      "C:\\Users\\Pablo\\anaconda3\\envs\\covid\\lib\\site-packages\\libpysal\\weights\\weights.py:172: UserWarning: The weights matrix is not fully connected: \n",
      " There are 3 disconnected components.\n",
      "  warnings.warn(message)\n"
     ]
    }
   ],
   "source": [
    "from libpysal.weights import Queen, Rook, KNN\n",
    "covid_acum_geo = covid_ult_mes.copy()\n",
    "covid_acum_geo['geometry'] = geo\n",
    "w_queen = Queen.from_dataframe(covid_acum_geo)\n",
    "w_rook = Rook.from_dataframe(covid_acum_geo)\n",
    "w_knn = KNN.from_dataframe(covid_acum_geo, k = 6)\n",
    "#covid_acum_geo"
   ]
  },
  {
   "cell_type": "markdown",
   "id": "c0528f0e-9254-4ee0-9cd4-fb757552888c",
   "metadata": {},
   "source": [
    "## Aplicación  de distintos métodos de clustering"
   ]
  },
  {
   "cell_type": "code",
   "execution_count": 4,
   "id": "90bf4a31-b719-475f-ab92-f0588dc76bcb",
   "metadata": {},
   "outputs": [],
   "source": [
    "import sklearn.pipeline\n",
    "import sklearn.preprocessing\n",
    "from elegir_modelo import metodo\n",
    "import procesos\n",
    "\n",
    "pipe_coord = sk.pipeline.Pipeline([\n",
    "    ('periodos', procesos.peri_columna()),\n",
    "    ('coordenadas', procesos.agrega_centroides(centroides))\n",
    "])\n",
    "\n",
    "norm_l1 = sk.pipeline.Pipeline([\n",
    "     ('std_scale', sk.preprocessing.StandardScaler())])#,\n",
    "    #('norm_l1', sk.preprocessing.Normalizer('l1'))])\n",
    "norm_l2 = sk.pipeline.Pipeline([\n",
    "     ('std_scale', sk.preprocessing.StandardScaler()),\n",
    "    ('norm_l2', sk.preprocessing.Normalizer('l2'))])\n",
    "\n",
    "pipe = sk.pipeline.Pipeline([\n",
    "    ('coord', pipe_coord),\n",
    "    ('norml1', norm_l1)])\n"
   ]
  },
  {
   "cell_type": "code",
   "execution_count": 5,
   "id": "25b5eb5e-2df4-4507-b85a-0ef4b796a06c",
   "metadata": {},
   "outputs": [],
   "source": [
    "# ddefinimos unas metricas para evaluar resultaods\n",
    "from lq import *\n",
    "lqcovid = lq_peri(covid_acum[['clasificac','personas']])\n",
    "#lqcovid = lq_peri(covid2[['fallecido','personas']])\n",
    "\n",
    "from sklearn.metrics import silhouette_score,  calinski_harabasz_score\n",
    "def siluetas(X, model):\n",
    "    return silhouette_score(X, model.labels_)\n",
    "def calinski(x, model):\n",
    "    return sk.metrics.calinski_harabasz_score(x, model.labels_)\n",
    "def inv_davies_bouldin(X,model):\n",
    "    return (sk.metrics.davies_bouldin_score(X,model.labels_))**-1\n",
    "def indice_lq(X, model):\n",
    "    grupos = model.labels_\n",
    "    ind = lqcovid.calcular_indice_debil(grupos)\n",
    "    return 1-ind"
   ]
  },
  {
   "cell_type": "code",
   "execution_count": 6,
   "id": "52a59348-2ab4-46a5-b084-843ffbecf085",
   "metadata": {},
   "outputs": [],
   "source": [
    "import sklearn.cluster \n",
    "hiperparam = {\n",
    "    'n_clusters': np.arange(5,20), 'init': ['k-means++', 'random'],\n",
    "    'n_init' : [10]\n",
    "}\n",
    "\n",
    "metricas = {'sil': siluetas, 'cal': calinski, 'dav': inv_davies_bouldin, 'lqg': indice_lq}\n",
    "#metricas = {'dav': inv_davies_bouldin, 'lqg': indice_lq}\n",
    "\n",
    "#X = pipe.fit_transform(fallecidos)\n",
    "#X = pipe.fit_transform(positivos)\n",
    "X = pipe.fit_transform(variable)\n",
    "kmeans = metodo(sk.cluster.KMeans(), hiperparam, metricas)\n",
    "kmeans.fit(X)\n",
    "\n",
    "hyperparam_aglo = {'n_clusters': np.arange(5,20),\n",
    " 'affinity': ['l1', 'l2', 'manhattan', 'cosine'],\n",
    " 'linkage': ['complete', 'average', 'single']}\n",
    "\n",
    "aglo = metodo(sk.cluster.AgglomerativeClustering(),hyperparam_aglo, metricas)\n",
    "aglo.fit(X)\n"
   ]
  },
  {
   "cell_type": "code",
   "execution_count": 7,
   "id": "bb14a205-e7f9-47bb-8953-304ff83e5803",
   "metadata": {},
   "outputs": [],
   "source": [
    "pipe2 = sk.pipeline.Pipeline([\n",
    "    ('periodos', procesos.peri_columna()),\n",
    "    ('norm', norm_l1)])\n",
    "\n",
    "#XX = pipe2.fit_transform(positivos)\n",
    "XX = pipe2.fit_transform(variable)\n",
    "hyperparam_aglo2= {'n_clusters': np.arange(8,20),\n",
    "    'connectivity': [w_knn.sparse],\n",
    " 'affinity': ['l1', 'l2', 'manhattan', 'cosine'],\n",
    " 'linkage': ['complete', 'average', 'single']}\n",
    "\n",
    "aglo_geo = metodo(sk.cluster.AgglomerativeClustering(),hyperparam_aglo2, metricas)\n",
    "aglo_geo.fit(XX)"
   ]
  },
  {
   "cell_type": "code",
   "execution_count": 8,
   "id": "40f5b64e-4494-4737-8037-70132734d106",
   "metadata": {},
   "outputs": [],
   "source": [
    "from sklearn.decomposition import PCA\n",
    "import copy \n",
    "\n",
    "pipe_pca = sk.pipeline.Pipeline([\n",
    "     ('periodos', procesos.peri_columna()),\n",
    "     ('norma', norm_l2),\n",
    "     ('pca', PCA(n_components = 2))])\n",
    "\n",
    "#X_pca = pipe_pca.fit_transform(positivos)\n",
    "X_pca = pipe_pca.fit_transform(variable)\n",
    "aglo_geo2 = copy.copy(aglo_geo)\n",
    "aglo_geo2.fit(X_pca)\n"
   ]
  },
  {
   "cell_type": "code",
   "execution_count": 9,
   "id": "0abc5ba9-48f1-420d-8c5d-111d0829770a",
   "metadata": {},
   "outputs": [],
   "source": [
    "#cent = procesos.agrega_centroides(covid.geometry.centroid)\n",
    "#cc = norm_l2.fit_transform(cent.fit_transform(covid)[:,-2:])\n",
    "#cc2 = cc.reshape(525,17,2)\n",
    "#XX2 = XX.reshape(525,17,1)\n",
    "#XX2 = np.c_[XX2, cc2]\n",
    "\n",
    "import tslearn.clustering as ts\n",
    "hiperparam_tskm = {\n",
    "    'n_clusters': [5,8,10,12], 'init': ['k-means++', 'random'],\n",
    "    'n_init' : [1]\n",
    "}\n",
    "\n",
    "def siluetas2(X, model):\n",
    "    X = X[:,:,0]\n",
    "    return silhouette_score(X, model.labels_)\n",
    "def calinski2(X, model):\n",
    "    X = X[:,:,0]\n",
    "    return sk.metrics.calinski_harabasz_score(X, model.labels_)\n",
    "def inv_davies_bouldin2(X,model):\n",
    "    X = X[:,:,0]\n",
    "    return (sk.metrics.davies_bouldin_score(X,model.labels_))**-1\n",
    "\n",
    "\n",
    "met = {'sil': siluetas2, 'cal': calinski2, 'dav': inv_davies_bouldin2, 'lqg': indice_lq}\n",
    "\n",
    "tskm = metodo(ts.TimeSeriesKMeans(),hiperparam_tskm, metricas)\n",
    "tskm.fit(XX)\n"
   ]
  },
  {
   "cell_type": "code",
   "execution_count": 10,
   "id": "4ca856da-0781-4c65-ab6b-17c979b25fc2",
   "metadata": {},
   "outputs": [],
   "source": [
    "hiperparam_kshape = {\n",
    "    'n_clusters': (5,8,10,12)\n",
    "}\n",
    "\n",
    "kshape = metodo(ts.KShape(),hiperparam_kshape, metricas)\n",
    "kshape.fit(XX)"
   ]
  },
  {
   "cell_type": "code",
   "execution_count": 11,
   "id": "42854d63-0318-46c6-89e0-1b5614c8e307",
   "metadata": {},
   "outputs": [],
   "source": [
    "def mapa_grupos(model):\n",
    "    covid_acum_geo['grup'] = model.best_model_['modelo'].iloc[0].labels_\n",
    "    gpd.GeoDataFrame(covid_acum_geo).plot('grup', figsize = (10,8))\n",
    "\n",
    "def metric_grup(model):\n",
    "    std = sk.preprocessing.StandardScaler()\n",
    "    for i in model.metrics.columns:\n",
    "        met = model.metrics[i]\n",
    "        met = std.fit_transform(met.values.reshape(-1,1))\n",
    "        plt.scatter(model.modelos['modelo'].apply(lambda x: x.n_clusters) , met, label = i)\n",
    "    plt.legend()\n",
    "    plt.show()"
   ]
  },
  {
   "cell_type": "code",
   "execution_count": 12,
   "id": "f5b14953-d705-45ec-aa7f-b0804489322a",
   "metadata": {},
   "outputs": [
    {
     "data": {
      "text/html": [
       "<div>\n",
       "<style scoped>\n",
       "    .dataframe tbody tr th:only-of-type {\n",
       "        vertical-align: middle;\n",
       "    }\n",
       "\n",
       "    .dataframe tbody tr th {\n",
       "        vertical-align: top;\n",
       "    }\n",
       "\n",
       "    .dataframe thead th {\n",
       "        text-align: right;\n",
       "    }\n",
       "</style>\n",
       "<table border=\"1\" class=\"dataframe\">\n",
       "  <thead>\n",
       "    <tr style=\"text-align: right;\">\n",
       "      <th></th>\n",
       "      <th>sil</th>\n",
       "      <th>cal</th>\n",
       "      <th>dav</th>\n",
       "      <th>lqg</th>\n",
       "      <th>grupos</th>\n",
       "      <th>modelo</th>\n",
       "    </tr>\n",
       "  </thead>\n",
       "  <tbody>\n",
       "    <tr>\n",
       "      <th>5</th>\n",
       "      <td>0.381985</td>\n",
       "      <td>692.339208</td>\n",
       "      <td>1.397426</td>\n",
       "      <td>0.804575</td>\n",
       "      <td>10</td>\n",
       "      <td>KMeans(n_clusters=10)</td>\n",
       "    </tr>\n",
       "    <tr>\n",
       "      <th>77</th>\n",
       "      <td>0.627414</td>\n",
       "      <td>86.859539</td>\n",
       "      <td>6.550791</td>\n",
       "      <td>0.750700</td>\n",
       "      <td>7</td>\n",
       "      <td>AgglomerativeClustering(affinity='l2', linkage...</td>\n",
       "    </tr>\n",
       "    <tr>\n",
       "      <th>24</th>\n",
       "      <td>0.650076</td>\n",
       "      <td>94.276703</td>\n",
       "      <td>6.793974</td>\n",
       "      <td>0.753151</td>\n",
       "      <td>8</td>\n",
       "      <td>AgglomerativeClustering(affinity='l1',\\n      ...</td>\n",
       "    </tr>\n",
       "    <tr>\n",
       "      <th>60</th>\n",
       "      <td>0.650076</td>\n",
       "      <td>94.276703</td>\n",
       "      <td>6.793974</td>\n",
       "      <td>0.753151</td>\n",
       "      <td>8</td>\n",
       "      <td>AgglomerativeClustering(affinity='l1',\\n      ...</td>\n",
       "    </tr>\n",
       "    <tr>\n",
       "      <th>96</th>\n",
       "      <td>0.650076</td>\n",
       "      <td>94.276703</td>\n",
       "      <td>6.793974</td>\n",
       "      <td>0.753151</td>\n",
       "      <td>8</td>\n",
       "      <td>AgglomerativeClustering(affinity='l1',\\n      ...</td>\n",
       "    </tr>\n",
       "    <tr>\n",
       "      <th>9</th>\n",
       "      <td>0.500449</td>\n",
       "      <td>122.089258</td>\n",
       "      <td>0.169777</td>\n",
       "      <td>0.766436</td>\n",
       "      <td>17</td>\n",
       "      <td>AgglomerativeClustering(affinity='l1',\\n      ...</td>\n",
       "    </tr>\n",
       "    <tr>\n",
       "      <th>81</th>\n",
       "      <td>0.500449</td>\n",
       "      <td>122.089258</td>\n",
       "      <td>0.169777</td>\n",
       "      <td>0.766436</td>\n",
       "      <td>17</td>\n",
       "      <td>AgglomerativeClustering(affinity='l1',\\n      ...</td>\n",
       "    </tr>\n",
       "    <tr>\n",
       "      <th>0</th>\n",
       "      <td>0.722769</td>\n",
       "      <td>2091.055347</td>\n",
       "      <td>1.836731</td>\n",
       "      <td>0.705882</td>\n",
       "      <td>5</td>\n",
       "      <td>TimeSeriesKMeans(metric='dtw', n_clusters=5, t...</td>\n",
       "    </tr>\n",
       "    <tr>\n",
       "      <th>3</th>\n",
       "      <td>-0.173552</td>\n",
       "      <td>39.407507</td>\n",
       "      <td>0.283229</td>\n",
       "      <td>0.755080</td>\n",
       "      <td>12</td>\n",
       "      <td>KShape(n_clusters=12, tol=0.0001)</td>\n",
       "    </tr>\n",
       "  </tbody>\n",
       "</table>\n",
       "</div>"
      ],
      "text/plain": [
       "         sil          cal       dav       lqg  grupos  \\\n",
       "5   0.381985   692.339208  1.397426  0.804575      10   \n",
       "77  0.627414    86.859539  6.550791  0.750700       7   \n",
       "24  0.650076    94.276703  6.793974  0.753151       8   \n",
       "60  0.650076    94.276703  6.793974  0.753151       8   \n",
       "96  0.650076    94.276703  6.793974  0.753151       8   \n",
       "9   0.500449   122.089258  0.169777  0.766436      17   \n",
       "81  0.500449   122.089258  0.169777  0.766436      17   \n",
       "0   0.722769  2091.055347  1.836731  0.705882       5   \n",
       "3  -0.173552    39.407507  0.283229  0.755080      12   \n",
       "\n",
       "                                               modelo  \n",
       "5                               KMeans(n_clusters=10)  \n",
       "77  AgglomerativeClustering(affinity='l2', linkage...  \n",
       "24  AgglomerativeClustering(affinity='l1',\\n      ...  \n",
       "60  AgglomerativeClustering(affinity='l1',\\n      ...  \n",
       "96  AgglomerativeClustering(affinity='l1',\\n      ...  \n",
       "9   AgglomerativeClustering(affinity='l1',\\n      ...  \n",
       "81  AgglomerativeClustering(affinity='l1',\\n      ...  \n",
       "0   TimeSeriesKMeans(metric='dtw', n_clusters=5, t...  \n",
       "3                   KShape(n_clusters=12, tol=0.0001)  "
      ]
     },
     "execution_count": 12,
     "metadata": {},
     "output_type": "execute_result"
    }
   ],
   "source": [
    "lista = [kmeans,aglo, aglo_geo,aglo_geo2, tskm,kshape]\n",
    "l = []\n",
    "for i in lista:\n",
    "    df = i.best_metrics_.copy()\n",
    "    model = i.best_model_\n",
    "    df['grupos'] = model['modelo'].iloc[0].n_clusters\n",
    "    df['modelo'] = model['modelo'].iloc[0]\n",
    "    l.append(df)    \n",
    "\n",
    "pd.concat(l)"
   ]
  },
  {
   "cell_type": "code",
   "execution_count": 16,
   "id": "276350ec-b6a6-4a05-b2e1-0cf91484b05b",
   "metadata": {},
   "outputs": [
    {
     "data": {
      "image/png": "[encoded data removed]",
      "text/plain": [
       "<Figure size 720x576 with 1 Axes>"
      ]
     },
     "metadata": {
      "needs_background": "light"
     },
     "output_type": "display_data"
    }
   ],
   "source": [
    "mapa_grupos(tskm)"
   ]
  },
  {
   "cell_type": "markdown",
   "id": "632fe059-b6d1-401e-a822-690184355ec6",
   "metadata": {
    "tags": []
   },
   "source": [
    "## Resultados"
   ]
  },
  {
   "cell_type": "code",
   "execution_count": 92,
   "id": "c16748df-b182-4d2a-9575-6c92b23d9476",
   "metadata": {},
   "outputs": [],
   "source": [
    "grupos = kmeans.best_model_['modelo'].iloc[0].labels_"
   ]
  },
  {
   "cell_type": "code",
   "execution_count": 93,
   "id": "417111d1-a526-4376-89b5-22b75f5bca92",
   "metadata": {},
   "outputs": [],
   "source": [
    "peri = procesos.peri_columna()\n",
    "\n",
    "def datos_periodos(bd):\n",
    "    gdf = gpd.GeoDataFrame(peri.fit_transform(bd))\n",
    "    meses = []\n",
    "    for i in list(gdf.columns):\n",
    "        m = 'mes'+str(i)\n",
    "        meses.append(m)\n",
    "    gdf.columns = meses\n",
    "    gdf = gdf.set_index(codiprov.index.get_level_values(0))\n",
    "    gdf['personas'] = covid_ult_mes.personas*10000\n",
    "    gdf['geometry'] = geo\n",
    "    \n",
    "    return gdf\n",
    "\n",
    "def homog(df, model):\n",
    "    f = datos_periodos(df)\n",
    "    grupos = model.best_model_['modelo'].iloc[0].labels_\n",
    "    f['g'] = grupos\n",
    "    part = particion('g')\n",
    "    \n",
    "    return homogeneidad_particion(f, part)"
   ]
  },
  {
   "cell_type": "code",
   "execution_count": 94,
   "id": "d4d49f82-1f3f-446c-8b54-5239e3d77dc3",
   "metadata": {},
   "outputs": [
    {
     "name": "stdout",
     "output_type": "stream",
     "text": [
      "5083.460523647257\n",
      "668.5193177445333\n",
      "528.6084809988752\n",
      "1220.7923460699035\n",
      "2049.2696502072267\n",
      "1246.6687200856045\n"
     ]
    }
   ],
   "source": [
    "for i in lista:\n",
    "    print( np.sqrt(homog(variable,i)))"
   ]
  },
  {
   "cell_type": "code",
   "execution_count": 95,
   "id": "65c78225-a8ec-4f9a-8c17-4e2c73602cf9",
   "metadata": {},
   "outputs": [
    {
     "data": {
      "text/plain": [
       "clasificac     4686784.0\n",
       "fallecido       117437.0\n",
       "personas      40116889.0\n",
       "dtype: float64"
      ]
     },
     "execution_count": 95,
     "metadata": {},
     "output_type": "execute_result"
    }
   ],
   "source": [
    "covid_ult_mes.sum()"
   ]
  },
  {
   "cell_type": "markdown",
   "id": "4b7ed165-125e-4bd1-ae52-451a9fa0fa27",
   "metadata": {},
   "source": [
    "## Guardar los objetos como resultados"
   ]
  },
  {
   "cell_type": "code",
   "execution_count": 18,
   "id": "94a693c4-ab06-45da-aadb-43d31bdd7fb5",
   "metadata": {},
   "outputs": [],
   "source": [
    "# guardamos los diferentes objetios tipo \"metodo\" del archivo elegir_modelo.py para volver a leerlos\n",
    "\n",
    "import pickle \n",
    "lista2 = ['kmeans','aglo', 'aglo_geo','aglo_geo2', 'tskm','kshape']\n",
    "for l in range(len(lista)):\n",
    "    with open(\"Resultados/{}fallecidos.pickle\".format(lista2[l], variable), \"wb\") as f:\n",
    "        pickle.dump(lista[l],f)\n"
   ]
  },
  {
   "cell_type": "markdown",
   "id": "d15e16d9-8a99-420f-8a52-b60d5a0d006a",
   "metadata": {},
   "source": [
    "# Armado de Bases para Geoda"
   ]
  },
  {
   "cell_type": "code",
   "execution_count": 15,
   "id": "23dcf56d-c026-4090-9eb8-582047ae8011",
   "metadata": {},
   "outputs": [],
   "source": [
    "def guardar_shp(bd, nombre):\n",
    "    gdf = gpd.GeoDataFrame(pipe2.fit_transform(bd))\n",
    "    meses = []\n",
    "    for i in list(gdf.columns):\n",
    "        m = 'mes'+str(i)\n",
    "        meses.append(m)\n",
    "    gdf.columns = meses\n",
    "    gdf = gdf.set_index(codiprov.index.get_level_values(0))\n",
    "    gdf['personas'] = covid_ult_mes.personas\n",
    "    gdf['geometry'] = geo\n",
    "    gdf.to_file('Geodabd/'+nombre+'.shp')\n",
    "    print('guardado '+nombre+' comun')\n",
    "    gdf = gpd.GeoDataFrame(pipe_pca.fit_transform(bd))\n",
    "    meses = []\n",
    "    for i in list(gdf.columns):\n",
    "        m = 'mes'+str(i)\n",
    "        meses.append(m)\n",
    "    gdf.columns = meses\n",
    "    gdf = gdf.set_index(codiprov.index.get_level_values(0))\n",
    "    gdf['personas'] = covid_ult_mes.personas\n",
    "    gdf['geometry'] = geo\n",
    "    gdf.to_file('Geodabd/'+nombre+'_pca.shp')\n",
    "    print('guardado '+nombre+' pca')\n",
    "    \n",
    "    "
   ]
  },
  {
   "cell_type": "code",
   "execution_count": 16,
   "id": "f637a849-09df-4329-b967-15de51300d2a",
   "metadata": {},
   "outputs": [
    {
     "name": "stdout",
     "output_type": "stream",
     "text": [
      "guardado fallec comun\n",
      "guardado fallec pca\n",
      "guardado positiv comun\n",
      "guardado positiv pca\n",
      "guardado fall_pos comun\n",
      "guardado fall_pos pca\n"
     ]
    }
   ],
   "source": [
    "bds = {'fallec': fallecidos, 'positiv': positivos, 'fall_pos': ind_fall_conf}\n",
    "for k in bds.keys():\n",
    "    guardar_shp(bds[k], k)"
   ]
  },
  {
   "cell_type": "code",
   "execution_count": null,
   "id": "5c29d783-34c3-4ef1-8523-2aef517c3f8a",
   "metadata": {},
   "outputs": [],
   "source": []
  }
 ],
 "metadata": {
  "kernelspec": {
   "display_name": "Python 3 (ipykernel)",
   "language": "python",
   "name": "python3"
  },
  "language_info": {
   "codemirror_mode": {
    "name": "ipython",
    "version": 3
   },
   "file_extension": ".py",
   "mimetype": "text/x-python",
   "name": "python",
   "nbconvert_exporter": "python",
   "pygments_lexer": "ipython3",
   "version": "3.7.11"
  }
 },
 "nbformat": 4,
 "nbformat_minor": 5
}
