{
 "cells": [
  {
   "cell_type": "code",
   "execution_count": 1,
   "id": "6108a7aa-0cab-4399-9204-f7ba0a4d9fae",
   "metadata": {},
   "outputs": [],
   "source": [
    "lista = [5,6,4,2]"
   ]
  },
  {
   "cell_type": "code",
   "execution_count": 2,
   "id": "a0e5be59-e9f0-4001-b4fc-ad04f8a027e2",
   "metadata": {},
   "outputs": [
    {
     "data": {
      "text/plain": [
       "[5, 6, 4, 2, 3]"
      ]
     },
     "execution_count": 2,
     "metadata": {},
     "output_type": "execute_result"
    }
   ],
   "source": [
    "lista+[3]"
   ]
  },
  {
   "cell_type": "code",
   "execution_count": 37,
   "id": "4d2113dd-0303-413a-8cf0-9cd7e1ff0ca4",
   "metadata": {},
   "outputs": [],
   "source": [
    "class DrugAnalyzer:\n",
    "    # TODO: Part 1 - Add method(s) necessary to fulfill the requirements.\n",
    "    def __init__(self,data = []):\n",
    "        self.data = data\n",
    "    def __add__(self, new):\n",
    "        try:\n",
    "            if len(new) > 1:\n",
    "                raise ValueError\n",
    "                pass\n",
    "            else:\n",
    "                l = self.data+new\n",
    "                return DrugAnalyzer(l)\n",
    "        except ValueError:\n",
    "            print(\"no largo\")\n",
    "    def verify_series(\n",
    "        self,\n",
    "        series_id: str,\n",
    "        act_subst_wgt: float,\n",
    "        act_subst_rate: float,\n",
    "        allowed_imp: float,\n",
    "        ) -> bool:\n",
    "        # TODO: Part 2 - Implement this method.\n",
    "        return True\n",
    "\n",
    "class error(Exception):\n",
    "    pass\n",
    "class ValueError(error):\n",
    "    pass\n",
    "\n"
   ]
  },
  {
   "cell_type": "code",
   "execution_count": 38,
   "id": "c457585a-efd9-4aaf-b528-a633279d36e3",
   "metadata": {},
   "outputs": [],
   "source": [
    "my = DrugAnalyzer([lista])"
   ]
  },
  {
   "cell_type": "code",
   "execution_count": 39,
   "id": "f60618b1-a4ea-41ab-8aea-beab3bdd19ae",
   "metadata": {},
   "outputs": [
    {
     "data": {
      "text/plain": [
       "[[5, 6, 4, 2]]"
      ]
     },
     "execution_count": 39,
     "metadata": {},
     "output_type": "execute_result"
    }
   ],
   "source": [
    "my.data"
   ]
  },
  {
   "cell_type": "code",
   "execution_count": 40,
   "id": "bf846248-bdf1-4931-aece-cbf6c30619c1",
   "metadata": {},
   "outputs": [],
   "source": [
    "new = my+[[5]]"
   ]
  },
  {
   "cell_type": "code",
   "execution_count": 41,
   "id": "95d9f3cf-7bfe-413d-8f19-0b12bd86e116",
   "metadata": {},
   "outputs": [
    {
     "data": {
      "text/plain": [
       "[[5, 6, 4, 2], [5]]"
      ]
     },
     "execution_count": 41,
     "metadata": {},
     "output_type": "execute_result"
    }
   ],
   "source": [
    "new.data"
   ]
  },
  {
   "cell_type": "code",
   "execution_count": 42,
   "id": "0df33a56-126a-49e9-b6c5-e4e37e9fdc00",
   "metadata": {},
   "outputs": [
    {
     "name": "stdout",
     "output_type": "stream",
     "text": [
      "no largo\n"
     ]
    }
   ],
   "source": [
    "new = my+ [5,6]"
   ]
  },
  {
   "cell_type": "code",
   "execution_count": 53,
   "id": "a3c3e00c-ec57-4a51-86a8-4a8a15fec688",
   "metadata": {},
   "outputs": [],
   "source": [
    "class DrugAnalyzer:\n",
    "    # TODO: Part 1 - Add method(s) necessary to fulfill the requirements.\n",
    "    def __init__(self,data = []):\n",
    "        self.data = data\n",
    "        class error(Exception):\n",
    "            pass\n",
    "        class ValueError(error):\n",
    "            pass\n",
    "\n",
    "    def __add__(self, new):\n",
    "        try:\n",
    "            if len(new) == len(self.data[0]):\n",
    "                l = self.data+[new]\n",
    "                return DrugAnalyzer(l)\n",
    "                \n",
    "            else:\n",
    "                raise ValueError\n",
    "        except ValueError:\n",
    "            print(\"Improper length of the added list.\")\n",
    "        \n",
    "    def verify_series(\n",
    "        self,\n",
    "        series_id: str,\n",
    "        act_subst_wgt: float,\n",
    "        act_subst_rate: float,\n",
    "        allowed_imp: float,\n",
    "        ) -> bool:\n",
    "        # TODO: Part 2 - Implement this method.\n",
    "        return True\n",
    "\n"
   ]
  },
  {
   "cell_type": "code",
   "execution_count": 54,
   "id": "a64b7e6e-f19f-4968-9191-be0a49455f4d",
   "metadata": {},
   "outputs": [],
   "source": [
    "analyzer = DrugAnalyzer(\n",
    "            [[\"L01-10\", 1007.67, 102.88, 1.00100], [\"L01-06\", 996.42, 99.68, 2.00087]]\n",
    "        )"
   ]
  },
  {
   "cell_type": "code",
   "execution_count": 58,
   "id": "3311297a-64b4-453a-821f-e873171087b4",
   "metadata": {},
   "outputs": [],
   "source": [
    "new_analyzer = analyzer + [\"L01-13\", 987.63, 101.88, 1.34100]+[\"L01-13\", 987.63, 101.88, 1.34100]"
   ]
  },
  {
   "cell_type": "code",
   "execution_count": 59,
   "id": "07b4caf0-5980-4797-9a02-5e41c3d77bcf",
   "metadata": {},
   "outputs": [
    {
     "data": {
      "text/plain": [
       "[['L01-10', 1007.67, 102.88, 1.001],\n",
       " ['L01-06', 996.42, 99.68, 2.00087],\n",
       " ['L01-13', 987.63, 101.88, 1.341],\n",
       " ['L01-13', 987.63, 101.88, 1.341]]"
      ]
     },
     "execution_count": 59,
     "metadata": {},
     "output_type": "execute_result"
    }
   ],
   "source": [
    "new_analyzer.data"
   ]
  },
  {
   "cell_type": "code",
   "execution_count": 57,
   "id": "ca9f5c89-052c-4629-a0e6-f94468c66b6a",
   "metadata": {},
   "outputs": [
    {
     "name": "stdout",
     "output_type": "stream",
     "text": [
      "Improper length of the added list.\n"
     ]
    }
   ],
   "source": [
    "new_analyzer = analyzer + [987.63, 101.88, 1.34100]"
   ]
  },
  {
   "cell_type": "code",
   "execution_count": null,
   "id": "56aa9d44-0cf2-4033-932c-8d34a59f940f",
   "metadata": {},
   "outputs": [],
   "source": []
  }
 ],
 "metadata": {
  "kernelspec": {
   "display_name": "Python 3 (ipykernel)",
   "language": "python",
   "name": "python3"
  },
  "language_info": {
   "codemirror_mode": {
    "name": "ipython",
    "version": 3
   },
   "file_extension": ".py",
   "mimetype": "text/x-python",
   "name": "python",
   "nbconvert_exporter": "python",
   "pygments_lexer": "ipython3",
   "version": "3.7.11"
  }
 },
 "nbformat": 4,
 "nbformat_minor": 5
}
