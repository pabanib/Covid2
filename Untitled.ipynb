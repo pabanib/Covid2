{
 "cells": [
  {
   "cell_type": "code",
   "execution_count": 1,
   "id": "6108a7aa-0cab-4399-9204-f7ba0a4d9fae",
   "metadata": {},
   "outputs": [],
   "source": [
    "lista = [5,6,4,2]"
   ]
  },
  {
   "cell_type": "code",
   "execution_count": 2,
   "id": "a0e5be59-e9f0-4001-b4fc-ad04f8a027e2",
   "metadata": {},
   "outputs": [
    {
     "data": {
      "text/plain": [
       "[5, 6, 4, 2, 3]"
      ]
     },
     "execution_count": 2,
     "metadata": {},
     "output_type": "execute_result"
    }
   ],
   "source": [
    "lista+[3]"
   ]
  },
  {
   "cell_type": "code",
   "execution_count": 3,
   "id": "4d2113dd-0303-413a-8cf0-9cd7e1ff0ca4",
   "metadata": {},
   "outputs": [],
   "source": [
    "class DrugAnalyzer:\n",
    "    # TODO: Part 1 - Add method(s) necessary to fulfill the requirements.\n",
    "    def __init__(self,data = []):\n",
    "        self.data = data\n",
    "    def __add__(self, new):\n",
    "        try:\n",
    "            if len(new) > 1:\n",
    "                raise ValueError\n",
    "                pass\n",
    "            else:\n",
    "                l = self.data+new\n",
    "                return DrugAnalyzer(l)\n",
    "        except ValueError:\n",
    "            print(\"no largo\")\n",
    "    def verify_series(\n",
    "        self,\n",
    "        series_id: str,\n",
    "        act_subst_wgt: float,\n",
    "        act_subst_rate: float,\n",
    "        allowed_imp: float,\n",
    "        ) -> bool:\n",
    "        # TODO: Part 2 - Implement this method.\n",
    "        return True\n",
    "\n",
    "class error(Exception):\n",
    "    pass\n",
    "class ValueError(error):\n",
    "    pass\n",
    "\n"
   ]
  },
  {
   "cell_type": "code",
   "execution_count": 4,
   "id": "c457585a-efd9-4aaf-b528-a633279d36e3",
   "metadata": {},
   "outputs": [],
   "source": [
    "my = DrugAnalyzer([lista])"
   ]
  },
  {
   "cell_type": "code",
   "execution_count": 5,
   "id": "f60618b1-a4ea-41ab-8aea-beab3bdd19ae",
   "metadata": {},
   "outputs": [
    {
     "data": {
      "text/plain": [
       "[[5, 6, 4, 2]]"
      ]
     },
     "execution_count": 5,
     "metadata": {},
     "output_type": "execute_result"
    }
   ],
   "source": [
    "my.data"
   ]
  },
  {
   "cell_type": "code",
   "execution_count": 6,
   "id": "bf846248-bdf1-4931-aece-cbf6c30619c1",
   "metadata": {},
   "outputs": [],
   "source": [
    "new = my+[[5]]"
   ]
  },
  {
   "cell_type": "code",
   "execution_count": 7,
   "id": "95d9f3cf-7bfe-413d-8f19-0b12bd86e116",
   "metadata": {},
   "outputs": [
    {
     "data": {
      "text/plain": [
       "[[5, 6, 4, 2], [5]]"
      ]
     },
     "execution_count": 7,
     "metadata": {},
     "output_type": "execute_result"
    }
   ],
   "source": [
    "new.data"
   ]
  },
  {
   "cell_type": "code",
   "execution_count": 8,
   "id": "0df33a56-126a-49e9-b6c5-e4e37e9fdc00",
   "metadata": {},
   "outputs": [
    {
     "name": "stdout",
     "output_type": "stream",
     "text": [
      "no largo\n"
     ]
    }
   ],
   "source": [
    "new = my+ [5,6]"
   ]
  },
  {
   "cell_type": "code",
   "execution_count": 9,
   "id": "a3c3e00c-ec57-4a51-86a8-4a8a15fec688",
   "metadata": {},
   "outputs": [],
   "source": [
    "class DrugAnalyzer:\n",
    "    # TODO: Part 1 - Add method(s) necessary to fulfill the requirements.\n",
    "    def __init__(self,data = []):\n",
    "        self.data = data\n",
    "        class error(Exception):\n",
    "            pass\n",
    "        class ValueError(error):\n",
    "            pass\n",
    "\n",
    "    def __add__(self, new):\n",
    "        try:\n",
    "            if len(new) == len(self.data[0]):\n",
    "                l = self.data+[new]\n",
    "                return DrugAnalyzer(l)\n",
    "                \n",
    "            else:\n",
    "                raise ValueError\n",
    "        except ValueError:\n",
    "            print(\"Improper length of the added list.\")\n",
    "        \n",
    "    def verify_series(\n",
    "        self,\n",
    "        series_id: str,\n",
    "        act_subst_wgt: float,\n",
    "        act_subst_rate: float,\n",
    "        allowed_imp: float,\n",
    "        ) -> bool:\n",
    "        # TODO: Part 2 - Implement this method.\n",
    "        return True\n",
    "\n"
   ]
  },
  {
   "cell_type": "code",
   "execution_count": 22,
   "id": "a64b7e6e-f19f-4968-9191-be0a49455f4d",
   "metadata": {},
   "outputs": [],
   "source": [
    "analyzer = DrugAnalyzer(\n",
    "            [[\"L01-10\", 1007.67, 102.88, 1.00100], [\"L01-06\", 996.42, 99.68, 2.00087]]\n",
    "        )"
   ]
  },
  {
   "cell_type": "code",
   "execution_count": 11,
   "id": "3311297a-64b4-453a-821f-e873171087b4",
   "metadata": {},
   "outputs": [],
   "source": [
    "new_analyzer = analyzer + [\"L01-13\", 987.63, 101.88, 1.34100]+[\"L01-13\", 987.63, 101.88, 1.34100]"
   ]
  },
  {
   "cell_type": "code",
   "execution_count": 12,
   "id": "07b4caf0-5980-4797-9a02-5e41c3d77bcf",
   "metadata": {},
   "outputs": [
    {
     "data": {
      "text/plain": [
       "[['L01-10', 1007.67, 102.88, 1.001],\n",
       " ['L01-06', 996.42, 99.68, 2.00087],\n",
       " ['L01-13', 987.63, 101.88, 1.341],\n",
       " ['L01-13', 987.63, 101.88, 1.341]]"
      ]
     },
     "execution_count": 12,
     "metadata": {},
     "output_type": "execute_result"
    }
   ],
   "source": [
    "new_analyzer.data"
   ]
  },
  {
   "cell_type": "code",
   "execution_count": 13,
   "id": "ca9f5c89-052c-4629-a0e6-f94468c66b6a",
   "metadata": {},
   "outputs": [
    {
     "name": "stdout",
     "output_type": "stream",
     "text": [
      "Improper length of the added list.\n"
     ]
    }
   ],
   "source": [
    "new_analyzer = analyzer + [987.63, 101.88, 1.34100]"
   ]
  },
  {
   "cell_type": "code",
   "execution_count": 43,
   "id": "56aa9d44-0cf2-4033-932c-8d34a59f940f",
   "metadata": {},
   "outputs": [
    {
     "data": {
      "text/plain": [
       "[['L01-10', 1007.67, 102.88, 1.001], ['L01-06', 996.42, 99.68, 2.00087]]"
      ]
     },
     "execution_count": 43,
     "metadata": {},
     "output_type": "execute_result"
    }
   ],
   "source": [
    "lista = []\n",
    "series_id = 'L01'\n",
    "l = analyzer.data\n",
    "active = 0\n",
    "impur = 0\n",
    "weight = 0\n",
    "for i in range(len(l)):\n",
    "    if l[i][0].split('-')[0] == series_id:\n",
    "        active += l[i][2]\n",
    "        impur += l[i][3]\n",
    "        weight += l[i][1]\n",
    "        lista.append(l[i])\n",
    "lista\n"
   ]
  },
  {
   "cell_type": "code",
   "execution_count": 48,
   "id": "5f497b92-2d50-44b3-a56e-9772110bf2d5",
   "metadata": {},
   "outputs": [
    {
     "data": {
      "text/plain": [
       "False"
      ]
     },
     "execution_count": 48,
     "metadata": {},
     "output_type": "execute_result"
    }
   ],
   "source": [
    "n = len(lista)\n",
    "act_subst_wgt = 100\n",
    "act_subst_rate = 0.05\n",
    "allowed_imp = 0.001\n",
    "val = []\n",
    "if active >= n*act_subst_wgt*(1-act_subst_rate) and active <= n*act_subst_wgt*(1+act_subst_rate):\n",
    "    val.append(True)\n",
    "else:\n",
    "    val.append(False)\n",
    "if impur > allowed_imp*weight:\n",
    "    val.append(False)\n",
    "else:\n",
    "    val.append(True)\n",
    "all(val)"
   ]
  },
  {
   "cell_type": "code",
   "execution_count": 40,
   "id": "8649c480-3d98-40f1-879b-d5b3d8c36dbb",
   "metadata": {},
   "outputs": [
    {
     "data": {
      "text/plain": [
       "202.56"
      ]
     },
     "execution_count": 40,
     "metadata": {},
     "output_type": "execute_result"
    }
   ],
   "source": [
    "active"
   ]
  },
  {
   "cell_type": "code",
   "execution_count": 49,
   "id": "232fd281-7ede-4a30-8a9a-0856f307bc89",
   "metadata": {},
   "outputs": [
    {
     "data": {
      "text/plain": [
       "0"
      ]
     },
     "execution_count": 49,
     "metadata": {},
     "output_type": "execute_result"
    }
   ],
   "source": [
    "len([])"
   ]
  },
  {
   "cell_type": "code",
   "execution_count": null,
   "id": "7602c1aa-8f63-4f19-aec0-20e44be4ce0d",
   "metadata": {},
   "outputs": [],
   "source": []
  }
 ],
 "metadata": {
  "kernelspec": {
   "display_name": "Python 3 (ipykernel)",
   "language": "python",
   "name": "python3"
  },
  "language_info": {
   "codemirror_mode": {
    "name": "ipython",
    "version": 3
   },
   "file_extension": ".py",
   "mimetype": "text/x-python",
   "name": "python",
   "nbconvert_exporter": "python",
   "pygments_lexer": "ipython3",
   "version": "3.7.11"
  }
 },
 "nbformat": 4,
 "nbformat_minor": 5
}
